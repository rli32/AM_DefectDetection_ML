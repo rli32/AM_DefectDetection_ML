{
 "cells": [
  {
   "cell_type": "code",
   "execution_count": 1,
   "metadata": {},
   "outputs": [],
   "source": [
    "import numpy as np\n",
    "import random\n",
    "import matplotlib.pyplot as plt\n",
    "import matplotlib.tri as tri\n",
    "import math\n",
    "from open3d import *\n",
    "import trimesh\n",
    "from open3d import io,visualization,registration,utility,geometry\n",
    "\n",
    "read_point_cloud = io.read_point_cloud\n",
    "read_triangle_mesh = io.read_triangle_mesh\n",
    "write_point_cloud = io.write_point_cloud\n",
    "registration_icp = registration.registration_icp\n",
    "compute_fpfh_feature = registration.compute_fpfh_feature\n",
    "TransformationEstimationPointToPlane = registration.TransformationEstimationPointToPlane\n",
    "TransformationEstimationPointToPoint = registration.TransformationEstimationPointToPoint\n",
    "Vector3dVector = utility.Vector3dVector\n",
    "Vector3iVector = utility.Vector3iVector\n",
    "draw_geometries = visualization.draw_geometries\n",
    "write_triangle_mesh = io.write_triangle_mesh\n",
    "paint_uniform_color = geometry.PointCloud.paint_uniform_color\n",
    "voxel_down_sample = geometry.PointCloud.voxel_down_sample\n",
    "estimate_normals = geometry.PointCloud.estimate_normals\n",
    "KDTreeSearchParamHybrid = geometry.KDTreeSearchParamHybrid\n",
    "PointCloud = geometry.PointCloud\n",
    "TriangleMesh = geometry.TriangleMesh\n",
    "sample_points_poisson_disk = geometry.TriangleMesh.sample_points_poisson_disk"
   ]
  },
  {
   "cell_type": "code",
   "execution_count": 2,
   "metadata": {},
   "outputs": [],
   "source": [
    "mesh1 = read_triangle_mesh('Barrel_Smooth.ply') #save triangle mesh of polyhedron\n",
    "draw_geometries([mesh1])"
   ]
  },
  {
   "cell_type": "code",
   "execution_count": null,
   "metadata": {},
   "outputs": [],
   "source": [
    "triangles = np.asarray(mesh1.triangles)\n",
    "vertex = np.asarray(mesh1.vertices)\n",
    "areasum1 = 0\n",
    "for triangle in triangles:\n",
    "    #coordinates of the three points on the triangle\n",
    "    A = vertex[triangle[0]]\n",
    "    B = vertex[triangle[1]]\n",
    "    C = vertex[triangle[2]]\n",
    "    \n",
    "    #vectors of three edges\n",
    "    AB = A-B\n",
    "    AC = A-C\n",
    "    \n",
    "    #area of the triangle\n",
    "    area = math.sqrt((AB[1]*AC[2]-AB[2]*AC[1])**2+(AB[2]*AC[0]-AB[0]*AC[2])**2+(AB[0]*AC[1]-AB[1]*AC[0])**2)/2\n",
    "    areasum1 = areasum1 + area\n",
    "    \n",
    "pts_density = 50000    #point cloud density used\n",
    "number_of_points = int(areasum1*pts_density)"
   ]
  },
  {
   "cell_type": "code",
   "execution_count": 3,
   "metadata": {},
   "outputs": [],
   "source": [
    "n = 100000\n",
    "polypcd = sample_points_poisson_disk(mesh1, number_of_points=n, init_factor=5)\n",
    "draw_geometries([polypcd])"
   ]
  },
  {
   "cell_type": "code",
   "execution_count": 4,
   "metadata": {},
   "outputs": [
    {
     "data": {
      "text/plain": [
       "True"
      ]
     },
     "execution_count": 4,
     "metadata": {},
     "output_type": "execute_result"
    }
   ],
   "source": [
    "# save the polyhedron point cloud\n",
    "write_point_cloud('pcd_barrel_100000'+str(n)+'.ply',polypcd)"
   ]
  },
  {
   "cell_type": "code",
   "execution_count": null,
   "metadata": {},
   "outputs": [],
   "source": []
  }
 ],
 "metadata": {
  "kernelspec": {
   "display_name": "Python 3",
   "language": "python",
   "name": "python3"
  },
  "language_info": {
   "codemirror_mode": {
    "name": "ipython",
    "version": 3
   },
   "file_extension": ".py",
   "mimetype": "text/x-python",
   "name": "python",
   "nbconvert_exporter": "python",
   "pygments_lexer": "ipython3",
   "version": "3.6.6"
  }
 },
 "nbformat": 4,
 "nbformat_minor": 2
}
