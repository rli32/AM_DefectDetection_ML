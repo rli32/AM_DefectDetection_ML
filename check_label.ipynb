{
 "cells": [
  {
   "cell_type": "code",
   "execution_count": 89,
   "metadata": {},
   "outputs": [],
   "source": [
    "import numpy as np\n",
    "from plyfile import PlyData, PlyElement\n",
    "import open3d as o3d\n",
    "import copy\n",
    "import matplotlib.pyplot as plt\n",
    "import statistics\n",
    "import math\n",
    "from pathlib import Path\n",
    "np.seterr(divide='ignore', invalid='ignore')\n",
    "from open3d import io,visualization,registration,utility,geometry\n",
    "import pandas as pd\n",
    "\n",
    "read_point_cloud = io.read_point_cloud\n",
    "read_triangle_mesh = io.read_triangle_mesh\n",
    "write_point_cloud = io.write_point_cloud\n",
    "registration_icp = registration.registration_icp\n",
    "compute_fpfh_feature = registration.compute_fpfh_feature\n",
    "TransformationEstimationPointToPlane = registration.TransformationEstimationPointToPlane\n",
    "TransformationEstimationPointToPoint = registration.TransformationEstimationPointToPoint\n",
    "Vector3dVector = utility.Vector3dVector\n",
    "draw_geometries = visualization.draw_geometries\n",
    "write_triangle_mesh = io.write_triangle_mesh\n",
    "paint_uniform_color = geometry.PointCloud.paint_uniform_color\n",
    "voxel_down_sample = geometry.PointCloud.voxel_down_sample\n",
    "estimate_normals = geometry.PointCloud.estimate_normals\n",
    "KDTreeSearchParamHybrid = geometry.KDTreeSearchParamHybrid\n",
    "PointCloud = geometry.PointCloud"
   ]
  },
  {
   "cell_type": "code",
   "execution_count": 90,
   "metadata": {},
   "outputs": [],
   "source": [
    "a=[653,657,663,665,673,674,676,677,685,694,695]\n",
    "b = [673]"
   ]
  },
  {
   "cell_type": "code",
   "execution_count": 91,
   "metadata": {},
   "outputs": [],
   "source": [
    "data = pd.read_csv(\"data_curv_c1.5_p20_694.csv\")\n",
    "#data = pd.read_csv(\"ex_curv_data1_new4.csv\")\n",
    "#data = pd.read_csv(\"data_curv_710_new.csv\")"
   ]
  },
  {
   "cell_type": "code",
   "execution_count": 92,
   "metadata": {},
   "outputs": [],
   "source": [
    "data = pd.DataFrame(data.iloc[:,1:])"
   ]
  },
  {
   "cell_type": "code",
   "execution_count": 93,
   "metadata": {},
   "outputs": [
    {
     "data": {
      "text/html": [
       "<div>\n",
       "<style scoped>\n",
       "    .dataframe tbody tr th:only-of-type {\n",
       "        vertical-align: middle;\n",
       "    }\n",
       "\n",
       "    .dataframe tbody tr th {\n",
       "        vertical-align: top;\n",
       "    }\n",
       "\n",
       "    .dataframe thead th {\n",
       "        text-align: right;\n",
       "    }\n",
       "</style>\n",
       "<table border=\"1\" class=\"dataframe\">\n",
       "  <thead>\n",
       "    <tr style=\"text-align: right;\">\n",
       "      <th></th>\n",
       "      <th>0</th>\n",
       "      <th>1</th>\n",
       "      <th>2</th>\n",
       "      <th>3</th>\n",
       "      <th>4</th>\n",
       "      <th>5</th>\n",
       "      <th>6</th>\n",
       "      <th>7</th>\n",
       "      <th>8</th>\n",
       "      <th>9</th>\n",
       "      <th>10</th>\n",
       "    </tr>\n",
       "  </thead>\n",
       "  <tbody>\n",
       "    <tr>\n",
       "      <th>0</th>\n",
       "      <td>-8.592452</td>\n",
       "      <td>18.102797</td>\n",
       "      <td>-25.066021</td>\n",
       "      <td>-1.723585</td>\n",
       "      <td>-1.715147</td>\n",
       "      <td>-1.711271</td>\n",
       "      <td>-1.781630</td>\n",
       "      <td>-3.954127</td>\n",
       "      <td>0.075724</td>\n",
       "      <td>4.029850</td>\n",
       "      <td>1.0</td>\n",
       "    </tr>\n",
       "    <tr>\n",
       "      <th>1</th>\n",
       "      <td>-8.497990</td>\n",
       "      <td>19.663709</td>\n",
       "      <td>-24.955191</td>\n",
       "      <td>-1.404521</td>\n",
       "      <td>-1.420075</td>\n",
       "      <td>-1.421303</td>\n",
       "      <td>-1.643195</td>\n",
       "      <td>-3.850837</td>\n",
       "      <td>0.181767</td>\n",
       "      <td>4.032605</td>\n",
       "      <td>1.0</td>\n",
       "    </tr>\n",
       "    <tr>\n",
       "      <th>2</th>\n",
       "      <td>-8.589971</td>\n",
       "      <td>19.389795</td>\n",
       "      <td>-25.065925</td>\n",
       "      <td>-1.574927</td>\n",
       "      <td>-1.578611</td>\n",
       "      <td>-1.572501</td>\n",
       "      <td>-1.741098</td>\n",
       "      <td>-3.848176</td>\n",
       "      <td>0.181767</td>\n",
       "      <td>4.029943</td>\n",
       "      <td>1.0</td>\n",
       "    </tr>\n",
       "    <tr>\n",
       "      <th>3</th>\n",
       "      <td>-8.501527</td>\n",
       "      <td>17.828615</td>\n",
       "      <td>-24.955328</td>\n",
       "      <td>-1.624081</td>\n",
       "      <td>-1.627204</td>\n",
       "      <td>-1.617356</td>\n",
       "      <td>-1.760990</td>\n",
       "      <td>-4.032747</td>\n",
       "      <td>0.000000</td>\n",
       "      <td>4.032747</td>\n",
       "      <td>1.0</td>\n",
       "    </tr>\n",
       "    <tr>\n",
       "      <th>4</th>\n",
       "      <td>5.533935</td>\n",
       "      <td>33.256236</td>\n",
       "      <td>24.086715</td>\n",
       "      <td>0.097715</td>\n",
       "      <td>0.134814</td>\n",
       "      <td>0.136468</td>\n",
       "      <td>0.184958</td>\n",
       "      <td>-2.079135</td>\n",
       "      <td>0.223294</td>\n",
       "      <td>2.302428</td>\n",
       "      <td>1.0</td>\n",
       "    </tr>\n",
       "  </tbody>\n",
       "</table>\n",
       "</div>"
      ],
      "text/plain": [
       "          0          1          2         3         4         5         6  \\\n",
       "0 -8.592452  18.102797 -25.066021 -1.723585 -1.715147 -1.711271 -1.781630   \n",
       "1 -8.497990  19.663709 -24.955191 -1.404521 -1.420075 -1.421303 -1.643195   \n",
       "2 -8.589971  19.389795 -25.065925 -1.574927 -1.578611 -1.572501 -1.741098   \n",
       "3 -8.501527  17.828615 -24.955328 -1.624081 -1.627204 -1.617356 -1.760990   \n",
       "4  5.533935  33.256236  24.086715  0.097715  0.134814  0.136468  0.184958   \n",
       "\n",
       "          7         8         9   10  \n",
       "0 -3.954127  0.075724  4.029850  1.0  \n",
       "1 -3.850837  0.181767  4.032605  1.0  \n",
       "2 -3.848176  0.181767  4.029943  1.0  \n",
       "3 -4.032747  0.000000  4.032747  1.0  \n",
       "4 -2.079135  0.223294  2.302428  1.0  "
      ]
     },
     "execution_count": 93,
     "metadata": {},
     "output_type": "execute_result"
    }
   ],
   "source": [
    "data.head()"
   ]
  },
  {
   "cell_type": "code",
   "execution_count": 94,
   "metadata": {},
   "outputs": [],
   "source": [
    "cor = data.iloc[:,:3]"
   ]
  },
  {
   "cell_type": "code",
   "execution_count": 95,
   "metadata": {},
   "outputs": [
    {
     "data": {
      "text/html": [
       "<div>\n",
       "<style scoped>\n",
       "    .dataframe tbody tr th:only-of-type {\n",
       "        vertical-align: middle;\n",
       "    }\n",
       "\n",
       "    .dataframe tbody tr th {\n",
       "        vertical-align: top;\n",
       "    }\n",
       "\n",
       "    .dataframe thead th {\n",
       "        text-align: right;\n",
       "    }\n",
       "</style>\n",
       "<table border=\"1\" class=\"dataframe\">\n",
       "  <thead>\n",
       "    <tr style=\"text-align: right;\">\n",
       "      <th></th>\n",
       "      <th>0</th>\n",
       "      <th>1</th>\n",
       "      <th>2</th>\n",
       "    </tr>\n",
       "  </thead>\n",
       "  <tbody>\n",
       "    <tr>\n",
       "      <th>0</th>\n",
       "      <td>-8.592452</td>\n",
       "      <td>18.102797</td>\n",
       "      <td>-25.066021</td>\n",
       "    </tr>\n",
       "    <tr>\n",
       "      <th>1</th>\n",
       "      <td>-8.497990</td>\n",
       "      <td>19.663709</td>\n",
       "      <td>-24.955191</td>\n",
       "    </tr>\n",
       "    <tr>\n",
       "      <th>2</th>\n",
       "      <td>-8.589971</td>\n",
       "      <td>19.389795</td>\n",
       "      <td>-25.065925</td>\n",
       "    </tr>\n",
       "    <tr>\n",
       "      <th>3</th>\n",
       "      <td>-8.501527</td>\n",
       "      <td>17.828615</td>\n",
       "      <td>-24.955328</td>\n",
       "    </tr>\n",
       "    <tr>\n",
       "      <th>4</th>\n",
       "      <td>5.533935</td>\n",
       "      <td>33.256236</td>\n",
       "      <td>24.086715</td>\n",
       "    </tr>\n",
       "  </tbody>\n",
       "</table>\n",
       "</div>"
      ],
      "text/plain": [
       "          0          1          2\n",
       "0 -8.592452  18.102797 -25.066021\n",
       "1 -8.497990  19.663709 -24.955191\n",
       "2 -8.589971  19.389795 -25.065925\n",
       "3 -8.501527  17.828615 -24.955328\n",
       "4  5.533935  33.256236  24.086715"
      ]
     },
     "execution_count": 95,
     "metadata": {},
     "output_type": "execute_result"
    }
   ],
   "source": [
    "cor.head()"
   ]
  },
  {
   "cell_type": "code",
   "execution_count": 96,
   "metadata": {
    "scrolled": true
   },
   "outputs": [
    {
     "data": {
      "text/plain": [
       "0    1.0\n",
       "1    1.0\n",
       "2    1.0\n",
       "3    1.0\n",
       "4    1.0\n",
       "Name: 10, dtype: float64"
      ]
     },
     "execution_count": 96,
     "metadata": {},
     "output_type": "execute_result"
    }
   ],
   "source": [
    "label = data.iloc[:,-1]\n",
    "label.head()"
   ]
  },
  {
   "cell_type": "code",
   "execution_count": 97,
   "metadata": {},
   "outputs": [
    {
     "data": {
      "text/plain": [
       "96742"
      ]
     },
     "execution_count": 97,
     "metadata": {},
     "output_type": "execute_result"
    }
   ],
   "source": [
    "cor = np.asarray(cor)\n",
    "label = np.asarray(label)\n",
    "len(label)"
   ]
  },
  {
   "cell_type": "code",
   "execution_count": 98,
   "metadata": {},
   "outputs": [
    {
     "data": {
      "text/plain": [
       "11598"
      ]
     },
     "execution_count": 98,
     "metadata": {},
     "output_type": "execute_result"
    }
   ],
   "source": [
    "nondefpts = []\n",
    "defpts = []\n",
    "for p in range(len(cor)):\n",
    "    point = cor[p]\n",
    "    lab = label[p]\n",
    "    if lab == 0:\n",
    "        nondefpts.append(point)\n",
    "    if lab == 1:\n",
    "        defpts.append(point)\n",
    "len(defpts)"
   ]
  },
  {
   "cell_type": "code",
   "execution_count": 99,
   "metadata": {},
   "outputs": [],
   "source": [
    "nondefpcd = PointCloud()\n",
    "nondefpcd.points = Vector3dVector(np.asarray(nondefpts))\n",
    "defpcd = PointCloud()\n",
    "defpcd.points = Vector3dVector(np.asarray(defpts))\n",
    "\n",
    "nondefpcd.paint_uniform_color([0.8,0.8,0.8])\n",
    "defpcd.paint_uniform_color([1,0,0])\n",
    "draw_geometries([nondefpcd,defpcd])"
   ]
  }
 ],
 "metadata": {
  "kernelspec": {
   "display_name": "Python 3",
   "language": "python",
   "name": "python3"
  },
  "language_info": {
   "codemirror_mode": {
    "name": "ipython",
    "version": 3
   },
   "file_extension": ".py",
   "mimetype": "text/x-python",
   "name": "python",
   "nbconvert_exporter": "python",
   "pygments_lexer": "ipython3",
   "version": "3.6.6"
  }
 },
 "nbformat": 4,
 "nbformat_minor": 2
}
