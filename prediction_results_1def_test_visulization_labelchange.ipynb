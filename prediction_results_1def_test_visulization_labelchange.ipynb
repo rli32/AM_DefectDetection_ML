{
 "cells": [
  {
   "cell_type": "code",
   "execution_count": 1,
   "metadata": {
    "scrolled": true
   },
   "outputs": [
    {
     "name": "stderr",
     "output_type": "stream",
     "text": [
      "Intel(R) Data Analytics Acceleration Library (Intel(R) DAAL) solvers for sklearn enabled: https://intelpython.github.io/daal4py/sklearn.html\n",
      "C:\\Users\\User\\Anaconda2\\envs\\python3\\lib\\site-packages\\sklearn\\externals\\six.py:31: DeprecationWarning: The module is deprecated in version 0.21 and will be removed in version 0.23 since we've dropped support for Python 2.7. Please rely on the official version of six (https://pypi.org/project/six/).\n",
      "  \"(https://pypi.org/project/six/).\", DeprecationWarning)\n"
     ]
    }
   ],
   "source": [
    "import pickle\n",
    "from Algorithms_curv import *\n",
    "import pandas\n",
    "import numpy as np\n",
    "from open3d import *\n",
    "read_point_cloud = io.read_point_cloud\n",
    "read_triangle_mesh = io.read_triangle_mesh\n",
    "write_point_cloud = io.write_point_cloud\n",
    "registration_icp = registration.registration_icp\n",
    "compute_fpfh_feature = registration.compute_fpfh_feature\n",
    "TransformationEstimationPointToPlane = registration.TransformationEstimationPointToPlane\n",
    "TransformationEstimationPointToPoint = registration.TransformationEstimationPointToPoint\n",
    "Vector3dVector = utility.Vector3dVector\n",
    "Vector3iVector = utility.Vector3iVector\n",
    "draw_geometries = visualization.draw_geometries\n",
    "write_triangle_mesh = io.write_triangle_mesh\n",
    "paint_uniform_color = geometry.PointCloud.paint_uniform_color\n",
    "voxel_down_sample = geometry.PointCloud.voxel_down_sample\n",
    "estimate_normals = geometry.PointCloud.estimate_normals\n",
    "KDTreeSearchParamHybrid = geometry.KDTreeSearchParamHybrid\n",
    "PointCloud = geometry.PointCloud\n",
    "TriangleMesh = geometry.TriangleMesh\n",
    "sample_points_poisson_disk = geometry.TriangleMesh.sample_points_poisson_disk\n",
    "create_sphere = geometry.TriangleMesh.create_sphere\n",
    "sample_points_uniformly = geometry.TriangleMesh.sample_points_uniformly"
   ]
  },
  {
   "cell_type": "code",
   "execution_count": 2,
   "metadata": {},
   "outputs": [],
   "source": [
    "# In[2]:\n",
    "\n",
    "import time\n",
    "time1=time.time()"
   ]
  },
  {
   "cell_type": "code",
   "execution_count": 3,
   "metadata": {},
   "outputs": [],
   "source": [
    "# In[3]:\n",
    "\n",
    "\n",
    "#load the 50 synthetic point clouds as training data\n",
    "pcd_dens = [100000]\n",
    "\n",
    "r1 = 1.5\n",
    "r2 = 2"
   ]
  },
  {
   "cell_type": "code",
   "execution_count": 220,
   "metadata": {},
   "outputs": [
    {
     "name": "stdout",
     "output_type": "stream",
     "text": [
      "Time1: 661414.0245215893\n"
     ]
    }
   ],
   "source": [
    "# In[4]:\n",
    "whole = np.asarray(range(651,701))\n",
    "#delete = np.asarray([61,67,69,84])\n",
    "#delete = np.asarray([174])\n",
    "delete = np.asarray([347])\n",
    "rest = [x for x in whole if x not in delete]\n",
    "\n",
    "newdata = []\n",
    "for i in range(651,711):\n",
    "#for i in range(901,961):    \n",
    "#for i in rest:\n",
    "    data = pandas.read_csv(r'preprocess_data/'+str(pcd_dens[0])+'/radius'+str(r1)+'-'+str(r2)+ '/data_curv_'+str(i)+'.csv')\n",
    "    data_array = np.asarray(data)[:,1:]\n",
    "    data_label = data_array[:,-1]\n",
    "    data_def = []\n",
    "    dist_array = data_array[:,3]\n",
    "    dist_mean = np.mean(dist_array)\n",
    "    dist_stdv = np.std(dist_array)\n",
    "    defect_ind = []\n",
    "    for l_ind in range(len(data_label)):\n",
    "        label = data_label[l_ind]\n",
    "        if label == 1:\n",
    "            data_def.append(data_array[l_ind,:])\n",
    "            defect_ind.append(l_ind)\n",
    "            dist = data_array[l_ind,3]\n",
    "            if abs(dist-dist_mean)<1.3*dist_stdv:\n",
    "                data_array[l_ind,-1]=0\n",
    "        \n",
    "    newdata.append(data_array)\n",
    "\n",
    "\n",
    "print(\"Time1:\", time.time()-time1)\n",
    "time2=time.time()"
   ]
  },
  {
   "cell_type": "code",
   "execution_count": 88,
   "metadata": {},
   "outputs": [],
   "source": [
    "trainindex = range(50)\n",
    "testindex = range(50,60)"
   ]
  },
  {
   "cell_type": "code",
   "execution_count": 164,
   "metadata": {},
   "outputs": [],
   "source": [
    "whole = np.asarray(testindex)\n",
    "#delete = np.asarray([61,67,69,84])\n",
    "#delete = np.asarray([174])\n",
    "delete = np.asarray([50,52,53])\n",
    "rest = [x for x in whole if x not in delete]"
   ]
  },
  {
   "cell_type": "code",
   "execution_count": 165,
   "metadata": {},
   "outputs": [
    {
     "data": {
      "text/plain": [
       "[51, 54, 55, 56, 57, 58, 59]"
      ]
     },
     "execution_count": 165,
     "metadata": {},
     "output_type": "execute_result"
    }
   ],
   "source": [
    "rest"
   ]
  },
  {
   "cell_type": "code",
   "execution_count": 221,
   "metadata": {},
   "outputs": [],
   "source": [
    "model = BaggingClassifier()\n",
    "\n",
    "#train the model with datasets from 1 to 40\n",
    "#trainindex = random.sample(index,int(4*length/5))\n",
    "for i in trainindex:\n",
    "    patch1 = newdata[i]\n",
    "    patch1 = np.asarray(patch1)\n",
    "    #organize the training data\n",
    "    #patch1 = patch1[:,1:]\n",
    "    #print(patch1)\n",
    "    np.random.shuffle(patch1)\n",
    "    #n = int(0.8*len(patch1))\n",
    "    x_train = patch1[:,(3,4,5,6,7)] #add second derovative in x axis of each point as input]\n",
    "    y_train = patch1[:,-1]\n",
    "    y_train_list = list(y_train)\n",
    "    if y_train_list.count(1)>=6: #request for smote \n",
    "        sm = SMOTE()\n",
    "        newx, newy = sm.fit_sample(x_train, y_train)\n",
    "        model.fit(newx,newy)\n",
    "    elif y_train_list.count(1) == 0:\n",
    "        continue\n",
    "    elif y_train_list.count(1) > 0 and y_train_list.count(1)<6:\n",
    "        ros = RandomOverSampler()\n",
    "        newx, newy= ros.fit_resample(x_train, y_train)\n",
    "        model.fit(newx,newy)"
   ]
  },
  {
   "cell_type": "code",
   "execution_count": 171,
   "metadata": {},
   "outputs": [],
   "source": [
    "cor = patch1[:,:3]\n",
    "train_def = []\n",
    "for i in range(len(y_train)):\n",
    "    if y_train[i] == 1:\n",
    "        train_def.append(patch1[i,:3])\n",
    "pcd = PointCloud()\n",
    "pcd.points = Vector3dVector(np.asarray(cor))\n",
    "defpcd = PointCloud()\n",
    "defpcd.points = Vector3dVector(np.asarray(train_def))\n",
    "\n",
    "pcd.paint_uniform_color([0.8,0.8,0.8])\n",
    "defpcd.paint_uniform_color([1,0,0])\n",
    "draw_geometries([defpcd,pcd])"
   ]
  },
  {
   "cell_type": "code",
   "execution_count": 166,
   "metadata": {},
   "outputs": [],
   "source": [
    "#get the F-measure and G-mean result of all the data from testindex\n",
    "#F-measure result list\n",
    "F_measure_list = []\n",
    "    \n",
    "#G-mean result list\n",
    "G_mean_list = []\n",
    "\n",
    "\n",
    "#for i in testindex:\n",
    "for i in rest:\n",
    "    test_def = []\n",
    "    #manage test dataset\n",
    "    test = newdata[i]\n",
    "    test = np.asarray(test)\n",
    "    #test = test[:,1:]\n",
    "    X_test = test[:,(3,4,5,6,7)]\n",
    "    y_test = test[:,-1]\n",
    "    y_test = list(y_test)\n",
    "    cor = test[:,:3]    \n",
    "    #start test\n",
    "    if y_test.count(1)<1:\n",
    "        break\n",
    "    else:\n",
    "        #prediction result\n",
    "        pred = model.predict(X_test)\n",
    "            \n",
    "        #define defect with label 1 as positive, the other class as negative\n",
    "        TP = 0 #True Positive\n",
    "        FP = 0 #False Positive\n",
    "        TN = 0 #True Negative\n",
    "        FN = 0 #False Negative\n",
    "            \n",
    "        for j in range(len(y_test)):\n",
    "            if y_test[j] == 0 and y_test[j] == pred[j]:\n",
    "                TN = TN + 1\n",
    "            if y_test[j] == 1 and y_test[j] == pred[j]:\n",
    "                TP = TP + 1    \n",
    "            if y_test[j] == 0 and y_test[j] != pred[j]:\n",
    "                FN = FN + 1  \n",
    "            if y_test[j] == 1 and y_test[j] != pred[j]:\n",
    "                FP = FP + 1\n",
    "            if pred[j] == 1:\n",
    "                test_def.append(cor[j])\n",
    "        \n",
    "        #calculate True Positive rate and True Negative rate\n",
    "        if TP+FN==0:\n",
    "            TP_rate = 0\n",
    "        else:\n",
    "            TP_rate = TP/(TP+FN) #True positive rate\n",
    "        if TN+FP==0:\n",
    "            TN_rate = 0\n",
    "        else:\n",
    "            TN_rate = TN/(TN+FP) #True negative rate\n",
    "            \n",
    "        #Positive predictive value\n",
    "        PP_value = TP/(TP+FP) \n",
    "            \n",
    "        #F-measure\n",
    "        R = TP_rate\n",
    "        P = PP_value\n",
    "        if R == 0 or P == 0:\n",
    "            F_measure = 0\n",
    "        if R != 0 and P != 0:\n",
    "            F_measure = 2/(1/R+1/P)\n",
    "        #print(F_measure)\n",
    "        F_measure_list.append(F_measure)\n",
    "        #F-measure average\n",
    "        F_ave = sum(F_measure_list)/len(F_measure_list)\n",
    "        #F-measure std\n",
    "        F_std = np.std(F_measure_list)\n",
    "            \n",
    "        #G-mean\n",
    "        G_mean = math.sqrt(TP_rate*TN_rate)\n",
    "        #print(G_mean)\n",
    "        G_mean_list.append(G_mean)\n",
    "        #G-mean average\n",
    "        G_ave = sum(G_mean_list)/len(G_mean_list)\n",
    "        #F-measure std\n",
    "        G_std = np.std(G_mean_list)\n",
    "\n",
    "    pcd = PointCloud()\n",
    "    pcd.points = Vector3dVector(np.asarray(cor))\n",
    "    defpcd = PointCloud()\n",
    "    defpcd.points = Vector3dVector(np.asarray(test_def))\n",
    "\n",
    "    pcd.paint_uniform_color([0.8,0.8,0.8])\n",
    "    defpcd.paint_uniform_color([1,0,0])\n",
    "    draw_geometries([pcd])"
   ]
  },
  {
   "cell_type": "code",
   "execution_count": 92,
   "metadata": {},
   "outputs": [
    {
     "data": {
      "text/plain": [
       "array([1., 0., 1., ..., 0., 0., 0.])"
      ]
     },
     "execution_count": 92,
     "metadata": {},
     "output_type": "execute_result"
    }
   ],
   "source": [
    "pred"
   ]
  },
  {
   "cell_type": "code",
   "execution_count": 93,
   "metadata": {},
   "outputs": [
    {
     "data": {
      "text/plain": [
       "(59950, 11)"
      ]
     },
     "execution_count": 93,
     "metadata": {},
     "output_type": "execute_result"
    }
   ],
   "source": [
    "test.shape"
   ]
  },
  {
   "cell_type": "code",
   "execution_count": 167,
   "metadata": {},
   "outputs": [
    {
     "data": {
      "text/plain": [
       "0.9991103304324064"
      ]
     },
     "execution_count": 167,
     "metadata": {},
     "output_type": "execute_result"
    }
   ],
   "source": [
    "G_ave"
   ]
  },
  {
   "cell_type": "code",
   "execution_count": 168,
   "metadata": {},
   "outputs": [
    {
     "data": {
      "text/plain": [
       "0.8283853901548476"
      ]
     },
     "execution_count": 168,
     "metadata": {},
     "output_type": "execute_result"
    }
   ],
   "source": [
    "F_ave"
   ]
  },
  {
   "cell_type": "code",
   "execution_count": 172,
   "metadata": {},
   "outputs": [
    {
     "data": {
      "text/plain": [
       "0.07079588335317774"
      ]
     },
     "execution_count": 172,
     "metadata": {},
     "output_type": "execute_result"
    }
   ],
   "source": [
    "F_std"
   ]
  },
  {
   "cell_type": "code",
   "execution_count": 173,
   "metadata": {},
   "outputs": [
    {
     "data": {
      "text/plain": [
       "0.0006615708043760896"
      ]
     },
     "execution_count": 173,
     "metadata": {},
     "output_type": "execute_result"
    }
   ],
   "source": [
    "G_std"
   ]
  },
  {
   "cell_type": "code",
   "execution_count": 169,
   "metadata": {},
   "outputs": [],
   "source": [
    "test_def = []\n",
    "i = testindex[1]\n",
    "#manage test dataset\n",
    "test = newdata[i]\n",
    "test = np.asarray(test)\n",
    "#test = test[:,1:]\n",
    "X_test = test[:,(3,4,5,6,7)]\n",
    "y_test = test[:,-1]\n",
    "y_test = list(y_test)\n",
    "cor = test[:,:3]    \n",
    "    #start test\n",
    "\n",
    "\n",
    "#prediction result\n",
    "pred = model.predict(X_test)\n",
    "            \n",
    "#define defect with label 1 as positive, the other class as negative\n",
    "TP = 0 #True Positive\n",
    "FP = 0 #False Positive\n",
    "TN = 0 #True Negative\n",
    "FN = 0 #False Negative\n",
    "            \n",
    "for j in range(len(y_test)):\n",
    "    if y_test[j] == 0 and y_test[j] == pred[j]:\n",
    "        TN = TN + 1\n",
    "    if y_test[j] == 1 and y_test[j] == pred[j]:\n",
    "        TP = TP + 1    \n",
    "    if y_test[j] == 0 and y_test[j] != pred[j]:\n",
    "        FN = FN + 1  \n",
    "    if y_test[j] == 1 and y_test[j] != pred[j]:\n",
    "        FP = FP + 1\n",
    "    if pred[j] == 1:\n",
    "        test_def.append(cor[j])"
   ]
  },
  {
   "cell_type": "code",
   "execution_count": 170,
   "metadata": {},
   "outputs": [],
   "source": [
    "pcd = PointCloud()\n",
    "pcd.points = Vector3dVector(np.asarray(cor))\n",
    "defpcd = PointCloud()\n",
    "defpcd.points = Vector3dVector(np.asarray(test_def))\n",
    "\n",
    "pcd.paint_uniform_color([0.8,0.8,0.8])\n",
    "defpcd.paint_uniform_color([1,0,0])\n",
    "draw_geometries([defpcd,pcd])"
   ]
  },
  {
   "cell_type": "code",
   "execution_count": 222,
   "metadata": {},
   "outputs": [],
   "source": [
    "test_def = []\n",
    "\n",
    "#manage test dataset\n",
    "#test = pandas.read_csv(r'preprocess_data/'+str(pcd_dens[0])+'/radius'+str(r1)+'-'+str(r2)+ '/ex_curv_data1_patch_curradi_new.csv')\n",
    "#test = pandas.read_csv(r'preprocess_data/'+str(pcd_dens[0])+'/radius'+str(r1)+'-'+str(r2)+ '/ex_curv_data1_new4.csv')\n",
    "test = pandas.read_csv(r'ex_smooth_2_patch20_cur1.5.csv')\n",
    "test = np.asarray(test)\n",
    "test = test[:,1:]\n",
    "X_test = test[:,(3,4,5,6,7)]\n",
    "y_test = test[:,-1]\n",
    "y_test = list(y_test)\n",
    "cor = test[:,:3]    \n",
    "    #start test\n",
    "\n",
    "\n",
    "#prediction result\n",
    "pred = model.predict(X_test)\n",
    "            \n",
    "#define defect with label 1 as positive, the other class as negative\n",
    "TP = 0 #True Positive\n",
    "FP = 0 #False Positive\n",
    "TN = 0 #True Negative\n",
    "FN = 0 #False Negative\n",
    "            \n",
    "for j in range(len(y_test)):\n",
    "    if y_test[j] == 0 and y_test[j] == pred[j]:\n",
    "        TN = TN + 1\n",
    "    if y_test[j] == 1 and y_test[j] == pred[j]:\n",
    "        TP = TP + 1    \n",
    "    if y_test[j] == 0 and y_test[j] != pred[j]:\n",
    "        FN = FN + 1  \n",
    "    if y_test[j] == 1 and y_test[j] != pred[j]:\n",
    "        FP = FP + 1\n",
    "    if pred[j] == 1:\n",
    "        test_def.append(cor[j])"
   ]
  },
  {
   "cell_type": "code",
   "execution_count": 223,
   "metadata": {},
   "outputs": [],
   "source": [
    "#plot the defect points distance\n",
    "dist_1 = []\n",
    "for l in range(len(pred)):\n",
    "    if pred[l] == 1: # and abs(X_test[1,0]) >1:\n",
    "        dist_1.append(X_test[l,0])"
   ]
  },
  {
   "cell_type": "code",
   "execution_count": 224,
   "metadata": {
    "scrolled": true
   },
   "outputs": [
    {
     "data": {
      "image/png": "[encoded data removed]",
      "text/plain": [
       "<Figure size 432x288 with 1 Axes>"
      ]
     },
     "metadata": {
      "needs_background": "light"
     },
     "output_type": "display_data"
    }
   ],
   "source": [
    "import matplotlib.pyplot as plt\n",
    "plt.scatter(range(len(dist_1)),dist_1,s=0.125)\n",
    "plt.show()"
   ]
  },
  {
   "cell_type": "code",
   "execution_count": 103,
   "metadata": {
    "scrolled": true
   },
   "outputs": [
    {
     "data": {
      "image/png": "[encoded data removed]",
      "text/plain": [
       "<Figure size 432x288 with 1 Axes>"
      ]
     },
     "metadata": {
      "needs_background": "light"
     },
     "output_type": "display_data"
    }
   ],
   "source": [
    "#plot the curvature of the defective points \n",
    "dist_1 = []\n",
    "for l in range(len(y_test)):\n",
    "    if y_test[l] == 1:\n",
    "        dist_1.append(X_test[l,0])\n",
    "plt.plot(dist_1)\n",
    "plt.show()"
   ]
  },
  {
   "cell_type": "code",
   "execution_count": 190,
   "metadata": {},
   "outputs": [
    {
     "data": {
      "image/png": "[encoded data removed]",
      "text/plain": [
       "<Figure size 432x288 with 1 Axes>"
      ]
     },
     "metadata": {
      "needs_background": "light"
     },
     "output_type": "display_data"
    }
   ],
   "source": [
    "#plot distance according to labels\n",
    "dist_1 = []\n",
    "dist_0 = []\n",
    "for l in range(len(y_test)):\n",
    "    if y_test[l] == 1:\n",
    "        dist_1.append(X_test[l,4])\n",
    "    if y_test[l] == 0:\n",
    "        dist_0.append(X_test[l,4])\n",
    "distance = X_test[:,0]\n",
    "label = y_test\n",
    "plt.plot(distance,'g^')\n",
    "\n",
    "plt.show()"
   ]
  },
  {
   "cell_type": "code",
   "execution_count": 60,
   "metadata": {},
   "outputs": [
    {
     "data": {
      "image/png": "[encoded data removed]",
      "text/plain": [
       "<Figure size 432x288 with 1 Axes>"
      ]
     },
     "metadata": {
      "needs_background": "light"
     },
     "output_type": "display_data"
    }
   ],
   "source": [
    "plt.plot(dist_1)\n",
    "\n",
    "plt.show()"
   ]
  },
  {
   "cell_type": "code",
   "execution_count": 191,
   "metadata": {},
   "outputs": [
    {
     "data": {
      "image/png": "[encoded data removed]",
      "text/plain": [
       "<Figure size 432x288 with 1 Axes>"
      ]
     },
     "metadata": {
      "needs_background": "light"
     },
     "output_type": "display_data"
    }
   ],
   "source": [
    "plt.plot(dist_0)\n",
    "\n",
    "plt.show()"
   ]
  },
  {
   "cell_type": "code",
   "execution_count": 216,
   "metadata": {},
   "outputs": [],
   "source": [
    "#calculate True Positive rate and True Negative rate\n",
    "if TP+FN==0:\n",
    "    TP_rate = 0\n",
    "else:\n",
    "    TP_rate = TP/(TP+FN) #True positive rate\n",
    "if TN+FP==0:\n",
    "    TN_rate = 0\n",
    "else:\n",
    "    TN_rate = TN/(TN+FP) #True negative rate\n",
    "            \n",
    "#Positive predictive value\n",
    "PP_value = TP/(TP+FP) \n",
    "            \n",
    "#F-measure\n",
    "R = TP_rate\n",
    "P = PP_value\n",
    "if R == 0 or P == 0:\n",
    "    F_measure = 0\n",
    "if R != 0 and P != 0:\n",
    "    F_measure = 2/(1/R+1/P)"
   ]
  },
  {
   "cell_type": "code",
   "execution_count": 217,
   "metadata": {
    "scrolled": true
   },
   "outputs": [
    {
     "data": {
      "text/plain": [
       "0.8057553956834532"
      ]
     },
     "execution_count": 217,
     "metadata": {},
     "output_type": "execute_result"
    }
   ],
   "source": [
    "F_measure"
   ]
  },
  {
   "cell_type": "code",
   "execution_count": 219,
   "metadata": {},
   "outputs": [],
   "source": [
    "pcd = PointCloud()\n",
    "pcd.points = Vector3dVector(np.asarray(cor))\n",
    "defpcd = PointCloud()\n",
    "defpcd.points = Vector3dVector(np.asarray(test_def))\n",
    "\n",
    "pcd.paint_uniform_color([0.8,0.8,0.8])\n",
    "defpcd.paint_uniform_color([1,0,0])\n",
    "draw_geometries([defpcd,pcd])"
   ]
  },
  {
   "cell_type": "code",
   "execution_count": 107,
   "metadata": {},
   "outputs": [
    {
     "data": {
      "text/plain": [
       "231"
      ]
     },
     "execution_count": 107,
     "metadata": {},
     "output_type": "execute_result"
    }
   ],
   "source": [
    "len(test_def)"
   ]
  },
  {
   "cell_type": "code",
   "execution_count": null,
   "metadata": {},
   "outputs": [],
   "source": []
  }
 ],
 "metadata": {
  "kernelspec": {
   "display_name": "Python 3",
   "language": "python",
   "name": "python3"
  },
  "language_info": {
   "codemirror_mode": {
    "name": "ipython",
    "version": 3
   },
   "file_extension": ".py",
   "mimetype": "text/x-python",
   "name": "python",
   "nbconvert_exporter": "python",
   "pygments_lexer": "ipython3",
   "version": "3.6.6"
  }
 },
 "nbformat": 4,
 "nbformat_minor": 2
}
